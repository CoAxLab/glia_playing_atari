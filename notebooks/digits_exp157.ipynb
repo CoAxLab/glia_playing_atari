{
 "cells": [
  {
   "cell_type": "code",
   "execution_count": 2,
   "metadata": {},
   "outputs": [],
   "source": [
    "import os\n",
    "import numpy as np\n",
    "\n",
    "from IPython.display import Image\n",
    "import matplotlib\n",
    "import matplotlib.pyplot as plt\n",
    "\n",
    "%matplotlib inline\n",
    "%config InlineBackend.figure_format = 'retina'\n",
    "\n",
    "import seaborn as sns\n",
    "sns.set(font_scale=2)\n",
    "sns.set_style('ticks')\n",
    "\n",
    "matplotlib.rcParams.update({'font.size': 16})\n",
    "matplotlib.rc('axes', titlesize=16)\n",
    "\n",
    "import torch\n",
    "import glob\n",
    "from collections import defaultdict"
   ]
  },
  {
   "cell_type": "code",
   "execution_count": 3,
   "metadata": {},
   "outputs": [],
   "source": [
    "def get_data(files, *keys):\n",
    "    \"\"\"Get data keys from saved digit exps.\"\"\"\n",
    "    data = defaultdict(list)\n",
    "    for f in files:\n",
    "        d = torch.load(f)\n",
    "        for k in keys:\n",
    "           data[k].append(d[k]) \n",
    "        \n",
    "    return data"
   ]
  },
  {
   "cell_type": "code",
   "execution_count": 13,
   "metadata": {},
   "outputs": [],
   "source": [
    "exp155_files = glob.glob(\"/Users/qualia/Code/glia_playing_atari/data/digits_exp155*\") \n",
    "exp155 = get_data(exp157_s01_files, \"correct\")\n",
    "\n",
    "exp157_s01_files = glob.glob(\"/Users/qualia/Code/glia_playing_atari/data/digits_exp157_s01*\") \n",
    "exp157_s01 = get_data(exp157_s01_files, \"correct\")\n",
    "\n",
    "exp157_s02_files = glob.glob(\"/Users/qualia/Code/glia_playing_atari/data/digits_exp157_s02*\") \n",
    "exp157_s02 = get_data(exp157_s02_files, \"correct\")\n",
    "\n",
    "exp157_s05_files = glob.glob(\"/Users/qualia/Code/glia_playing_atari/data/digits_exp157_s05*\") \n",
    "exp157_s05 = get_data(exp157_s05_files, \"correct\")\n",
    "\n",
    "exp157_s06_files = glob.glob(\"/Users/qualia/Code/glia_playing_atari/data/digits_exp157_s06*\") \n",
    "exp157_s06 = get_data(exp157_s06_files, \"correct\")"
   ]
  },
  {
   "cell_type": "code",
   "execution_count": 14,
   "metadata": {},
   "outputs": [
    {
     "data": {
      "text/plain": [
       "defaultdict(list,\n",
       "            {'correct': [0.84,\n",
       "              0.821,\n",
       "              0.8092,\n",
       "              0.1135,\n",
       "              0.8286,\n",
       "              0.8096,\n",
       "              0.1135,\n",
       "              0.8093,\n",
       "              0.8313,\n",
       "              0.8262,\n",
       "              0.1135,\n",
       "              0.6423,\n",
       "              0.1135,\n",
       "              0.8002,\n",
       "              0.8201,\n",
       "              0.5926,\n",
       "              0.6654,\n",
       "              0.8214,\n",
       "              0.8117,\n",
       "              0.821]})"
      ]
     },
     "execution_count": 14,
     "metadata": {},
     "output_type": "execute_result"
    }
   ],
   "source": [
    "exp155"
   ]
  },
  {
   "cell_type": "code",
   "execution_count": 24,
   "metadata": {},
   "outputs": [
    {
     "data": {
      "image/png": "[encoded data removed]",
      "text/plain": [
       "<Figure size 288x144 with 1 Axes>"
      ]
     },
     "metadata": {
      "image/png": {
       "height": 179,
       "width": 285
      },
      "needs_background": "light"
     },
     "output_type": "display_data"
    }
   ],
   "source": [
    "# Est stats\n",
    "model_names = [\"0.0\",\"0.1\", \"0.2\", \"0.5\", \"0.6\"]\n",
    "models = [exp155, exp157_s01, exp157_s02, exp157_s05, exp157_s06]\n",
    "medians = [\n",
    "    np.median(exp155[\"correct\"]), \n",
    "    np.median(exp157_s01[\"correct\"]),\n",
    "    np.median(exp157_s02[\"correct\"]),\n",
    "    np.median(exp157_s05[\"correct\"]),\n",
    "    np.median(exp157_s06[\"correct\"]),\n",
    "]\n",
    "\n",
    "fig = plt.figure(figsize=(4, 2))\n",
    "grid = plt.GridSpec(1, 1, wspace=0.3, hspace=0.8)\n",
    "\n",
    "# Bar\n",
    "plt.bar(model_names, medians, color=\"grey\", alpha=0.2, width=0.5)\n",
    "\n",
    "# Scatter\n",
    "for name, model in zip(model_names, models):\n",
    "    plt.scatter(x=np.repeat(name, 20), y=model[\"correct\"], color=\"black\", alpha=0.2)\n",
    "# plt.xticks(np.array([0,1,3,4]), model_names)\n",
    "\n",
    "# Etc\n",
    "plt.ylim(0, 1.1)\n",
    "plt.ylabel(\"Correct\")\n",
    "plt.xlabel(\"Leak (sigma)\")\n",
    "_ = sns.despine()"
   ]
  },
  {
   "cell_type": "code",
   "execution_count": null,
   "metadata": {},
   "outputs": [],
   "source": []
  }
 ],
 "metadata": {
  "kernelspec": {
   "display_name": "Python 3",
   "language": "python",
   "name": "python3"
  },
  "language_info": {
   "codemirror_mode": {
    "name": "ipython",
    "version": 3
   },
   "file_extension": ".py",
   "mimetype": "text/x-python",
   "name": "python",
   "nbconvert_exporter": "python",
   "pygments_lexer": "ipython3",
   "version": "3.6.7"
  }
 },
 "nbformat": 4,
 "nbformat_minor": 2
}
