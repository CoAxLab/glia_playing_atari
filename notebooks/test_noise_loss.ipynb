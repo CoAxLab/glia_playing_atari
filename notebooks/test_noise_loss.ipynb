{
 "cells": [
  {
   "cell_type": "code",
   "execution_count": 1,
   "metadata": {},
   "outputs": [],
   "source": [
    "import os\n",
    "import numpy as np\n",
    "\n",
    "from IPython.display import Image\n",
    "import matplotlib\n",
    "import matplotlib.pyplot as plt\n",
    "\n",
    "%matplotlib inline\n",
    "%config InlineBackend.figure_format = 'retina'\n",
    "\n",
    "import seaborn as sns\n",
    "sns.set(font_scale=2)\n",
    "sns.set_style('ticks')\n",
    "\n",
    "matplotlib.rcParams.update({'font.size': 16})\n",
    "matplotlib.rc('axes', titlesize=16)\n",
    "\n",
    "import torch\n",
    "import torch.functional as F\n",
    "import glob\n",
    "from collections import defaultdict\n",
    "\n",
    "import torch\n",
    "import torch.nn as nn\n",
    "import torch.nn.functional as F\n",
    "import torch.optim as optim\n",
    "from torchvision import datasets, transforms\n",
    "from torchvision.utils import save_image\n",
    "\n",
    "from glia.gn import WeightNoise\n",
    "from glia.gn import WeightLoss\n",
    "from glia import gn\n",
    "\n",
    "class GliaNet(nn.Module):\n",
    "    \"\"\"A simple test model\"\"\"\n",
    "\n",
    "    def __init__(self, z_features=10, activation_function='Softmax'):\n",
    "        # --------------------------------------------------------------------\n",
    "        # Init\n",
    "        super().__init__()\n",
    "        if z_features < 2:\n",
    "            raise ValueError(\"z_features must be > 2.\")\n",
    "        self.z_features = z_features\n",
    "\n",
    "        # Lookup activation function (a class)\n",
    "        AF = getattr(nn, activation_function)\n",
    "#         self.phi = AF(dim=1)\n",
    "        \n",
    "        # --------------------------------------------------------------------\n",
    "        # Def fc1:\n",
    "        self.fc1 = gn.Slide(self.z_features)\n",
    "        self.fc2 = gn.Gather(self.z_features)\n",
    "\n",
    "    def forward(self, x, verbose=False):\n",
    "        x = self.fc1(x)\n",
    "        if verbose: print(x)\n",
    "        x = self.fc2(x)\n",
    "        if verbose: print(x)\n",
    "            \n",
    "        return x"
   ]
  },
  {
   "cell_type": "markdown",
   "metadata": {},
   "source": [
    "# Create some shared input"
   ]
  },
  {
   "cell_type": "code",
   "execution_count": 56,
   "metadata": {},
   "outputs": [
    {
     "name": "stdout",
     "output_type": "stream",
     "text": [
      "tensor([[0.3606, 0.2939, 0.8955, 0.9413]])\n"
     ]
    }
   ],
   "source": [
    "x = torch.rand(1, 4)\n",
    "net = GliaNet(4)\n",
    "print(x)"
   ]
  },
  {
   "cell_type": "code",
   "execution_count": 58,
   "metadata": {},
   "outputs": [
    {
     "name": "stdout",
     "output_type": "stream",
     "text": [
      "GliaNet(\n",
      "  (fc1): Slide(in_features=4, out_features=4, bias=True)\n",
      "  (fc2): Gather(in_features=4, out_features=2, bias=True)\n",
      ")\n"
     ]
    }
   ],
   "source": [
    "print(net)"
   ]
  },
  {
   "cell_type": "code",
   "execution_count": 59,
   "metadata": {},
   "outputs": [
    {
     "name": "stdout",
     "output_type": "stream",
     "text": [
      "OrderedDict([('fc1.weight', tensor([[-0.3687, -0.3640, -0.4445,  0.4557],\n",
      "        [ 0.3500,  0.3443, -0.0640, -0.3020],\n",
      "        [ 0.0855,  0.2554, -0.3448,  0.2174],\n",
      "        [-0.4958,  0.4272,  0.3583,  0.3005]])), ('fc1.bias', tensor([-0.2882,  0.0052, -0.4574, -0.0070])), ('fc2.weight', tensor([[ 0.0156, -0.4211,  0.0527, -0.4432],\n",
      "        [-0.2517,  0.2604, -0.1322, -0.1776]])), ('fc2.bias', tensor([-0.0076,  0.4532]))])\n"
     ]
    }
   ],
   "source": [
    "print(net.state_dict())"
   ]
  },
  {
   "cell_type": "code",
   "execution_count": 60,
   "metadata": {},
   "outputs": [
    {
     "name": "stdout",
     "output_type": "stream",
     "text": [
      "tensor([[-0.0691, -0.0426]], grad_fn=<AddBackward0>)\n"
     ]
    }
   ],
   "source": [
    "print(net(x))"
   ]
  },
  {
   "cell_type": "code",
   "execution_count": 46,
   "metadata": {},
   "outputs": [
    {
     "name": "stdout",
     "output_type": "stream",
     "text": [
      "OrderedDict([('fc1.weight', tensor([[ 0.3393, -0.1487, -0.3940, -0.0267],\n",
      "        [ 0.0843,  0.3380, -0.3070,  0.3612],\n",
      "        [-0.0080, -0.3376, -0.0311,  0.2769],\n",
      "        [-0.0065, -0.2602,  0.2513, -0.0621]])), ('fc1.bias', tensor([-0.0601, -0.3608, -0.0242, -0.2862])), ('fc2.weight', tensor([[-0.2137, -0.3110, -0.2661,  0.0418],\n",
      "        [ 0.2199,  0.1162, -0.0369,  0.1128]])), ('fc2.bias', tensor([0.0565, 0.4851]))])\n"
     ]
    }
   ],
   "source": [
    "clone = GliaNet(4)\n",
    "clone.load_state_dict(net.state_dict())\n",
    "print(clone.state_dict())"
   ]
  },
  {
   "cell_type": "markdown",
   "metadata": {},
   "source": [
    "# Add noise to the net`"
   ]
  },
  {
   "cell_type": "code",
   "execution_count": 47,
   "metadata": {},
   "outputs": [
    {
     "data": {
      "text/plain": [
       "GliaNet(\n",
       "  (fc1): Slide(in_features=4, out_features=4, bias=True)\n",
       "  (fc2): Gather(in_features=4, out_features=2, bias=True)\n",
       ")"
      ]
     },
     "execution_count": 47,
     "metadata": {},
     "output_type": "execute_result"
    }
   ],
   "source": [
    "noise = WeightNoise(.05)\n",
    "net.apply(noise)"
   ]
  },
  {
   "cell_type": "code",
   "execution_count": 48,
   "metadata": {},
   "outputs": [
    {
     "name": "stdout",
     "output_type": "stream",
     "text": [
      "OrderedDict([('fc1.weight', tensor([[ 0.2928, -0.2119, -0.3444, -0.0609],\n",
      "        [ 0.0761,  0.3833, -0.2535,  0.3296],\n",
      "        [-0.0302, -0.3918, -0.0610,  0.2345],\n",
      "        [-0.0604, -0.2299,  0.2196, -0.0627]])), ('fc1.bias', tensor([-0.0601, -0.3608, -0.0242, -0.2862])), ('fc2.weight', tensor([[-0.2165, -0.3550, -0.3198,  0.0012],\n",
      "        [ 0.1935,  0.0760, -0.0800,  0.0693]])), ('fc2.bias', tensor([0.0565, 0.4851]))])\n"
     ]
    }
   ],
   "source": [
    "print(net.state_dict())"
   ]
  },
  {
   "cell_type": "code",
   "execution_count": 49,
   "metadata": {},
   "outputs": [
    {
     "name": "stdout",
     "output_type": "stream",
     "text": [
      "tensor([[-0.0307,  0.0425]], grad_fn=<AddBackward0>)\n"
     ]
    }
   ],
   "source": [
    "print(net(x))"
   ]
  },
  {
   "cell_type": "markdown",
   "metadata": {},
   "source": [
    "# Drop connections"
   ]
  },
  {
   "cell_type": "code",
   "execution_count": 50,
   "metadata": {},
   "outputs": [
    {
     "data": {
      "text/plain": [
       "GliaNet(\n",
       "  (fc1): Slide(in_features=4, out_features=4, bias=True)\n",
       "  (fc2): Gather(in_features=4, out_features=2, bias=True)\n",
       ")"
      ]
     },
     "execution_count": 50,
     "metadata": {},
     "output_type": "execute_result"
    }
   ],
   "source": [
    "lost = WeightLoss(.1)\n",
    "net.apply(lost)"
   ]
  },
  {
   "cell_type": "code",
   "execution_count": 51,
   "metadata": {},
   "outputs": [
    {
     "name": "stdout",
     "output_type": "stream",
     "text": [
      "OrderedDict([('fc1.weight', tensor([[ 0.2928, -0.2119, -0.3444, -0.0609],\n",
      "        [ 0.0761,  0.3833, -0.0000,  0.3296],\n",
      "        [-0.0302, -0.3918, -0.0610,  0.2345],\n",
      "        [-0.0604, -0.2299,  0.2196, -0.0627]])), ('fc1.bias', tensor([-0.0601, -0.3608, -0.0242, -0.2862])), ('fc2.weight', tensor([[-0.2165, -0.3550, -0.3198,  0.0012],\n",
      "        [ 0.1935,  0.0760, -0.0800,  0.0693]])), ('fc2.bias', tensor([0.0565, 0.4851]))])\n"
     ]
    }
   ],
   "source": [
    "print(net.state_dict())"
   ]
  },
  {
   "cell_type": "code",
   "execution_count": 36,
   "metadata": {},
   "outputs": [
    {
     "name": "stdout",
     "output_type": "stream",
     "text": [
      "tensor([[-0.0128,  0.0000]], grad_fn=<AddBackward0>)\n"
     ]
    }
   ],
   "source": [
    "print(net(x))"
   ]
  },
  {
   "cell_type": "markdown",
   "metadata": {},
   "source": [
    "# Check clone"
   ]
  },
  {
   "cell_type": "code",
   "execution_count": 53,
   "metadata": {},
   "outputs": [
    {
     "name": "stdout",
     "output_type": "stream",
     "text": [
      "OrderedDict([('fc1.weight', tensor([[ 0.3393, -0.1487, -0.3940, -0.0267],\n",
      "        [ 0.0843,  0.3380, -0.3070,  0.3612],\n",
      "        [-0.0080, -0.3376, -0.0311,  0.2769],\n",
      "        [-0.0065, -0.2602,  0.2513, -0.0621]])), ('fc1.bias', tensor([-0.0601, -0.3608, -0.0242, -0.2862])), ('fc2.weight', tensor([[-0.2137, -0.3110, -0.2661,  0.0418],\n",
      "        [ 0.2199,  0.1162, -0.0369,  0.1128]])), ('fc2.bias', tensor([0.0565, 0.4851]))])\n"
     ]
    }
   ],
   "source": [
    "print(clone.state_dict())"
   ]
  }
 ],
 "metadata": {
  "kernelspec": {
   "display_name": "Python 3",
   "language": "python",
   "name": "python3"
  },
  "language_info": {
   "codemirror_mode": {
    "name": "ipython",
    "version": 3
   },
   "file_extension": ".py",
   "mimetype": "text/x-python",
   "name": "python",
   "nbconvert_exporter": "python",
   "pygments_lexer": "ipython3",
   "version": "3.6.7"
  }
 },
 "nbformat": 4,
 "nbformat_minor": 2
}
