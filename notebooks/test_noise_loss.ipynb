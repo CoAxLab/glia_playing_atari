{
 "cells": [
  {
   "cell_type": "code",
   "execution_count": 1,
   "metadata": {},
   "outputs": [],
   "source": [
    "import os\n",
    "import numpy as np\n",
    "\n",
    "from IPython.display import Image\n",
    "import matplotlib\n",
    "import matplotlib.pyplot as plt\n",
    "\n",
    "%matplotlib inline\n",
    "%config InlineBackend.figure_format = 'retina'\n",
    "\n",
    "import seaborn as sns\n",
    "sns.set(font_scale=2)\n",
    "sns.set_style('ticks')\n",
    "\n",
    "matplotlib.rcParams.update({'font.size': 16})\n",
    "matplotlib.rc('axes', titlesize=16)\n",
    "\n",
    "import torch\n",
    "import torch.functional as F\n",
    "import glob\n",
    "from collections import defaultdict\n",
    "\n",
    "import torch\n",
    "import torch.nn as nn\n",
    "import torch.nn.functional as F\n",
    "import torch.optim as optim\n",
    "from torchvision import datasets, transforms\n",
    "from torchvision.utils import save_image\n",
    "\n",
    "from glia.gn import WeightNoise\n",
    "from glia.gn import WeightLoss\n",
    "from glia import gn\n",
    "\n",
    "class GliaNet(nn.Module):\n",
    "    \"\"\"A simple test model\"\"\"\n",
    "\n",
    "    def __init__(self, z_features=10, activation_function='Softmax'):\n",
    "        # --------------------------------------------------------------------\n",
    "        # Init\n",
    "        super().__init__()\n",
    "        if z_features < 2:\n",
    "            raise ValueError(\"z_features must be > 2.\")\n",
    "        self.z_features = z_features\n",
    "\n",
    "        # Lookup activation function (a class)\n",
    "        AF = getattr(nn, activation_function)\n",
    "#         self.phi = AF(dim=1)\n",
    "        \n",
    "        # --------------------------------------------------------------------\n",
    "        # Def fc1:\n",
    "        self.fc1 = gn.Slide(self.z_features)\n",
    "        self.fc2 = gn.Gather(self.z_features)\n",
    "\n",
    "    def forward(self, x, verbose=False):\n",
    "        x = self.fc1(x)\n",
    "        if verbose: print(x)\n",
    "        x = self.fc2(x)\n",
    "        if verbose: print(x)\n",
    "            \n",
    "        return x"
   ]
  },
  {
   "cell_type": "markdown",
   "metadata": {},
   "source": [
    "# Create some shared input"
   ]
  },
  {
   "cell_type": "code",
   "execution_count": 2,
   "metadata": {},
   "outputs": [
    {
     "name": "stdout",
     "output_type": "stream",
     "text": [
      "tensor([[0.9521, 0.1484, 0.4430, 0.0227]])\n"
     ]
    }
   ],
   "source": [
    "x = torch.rand(1, 4)\n",
    "net = GliaNet(4)\n",
    "print(x)"
   ]
  },
  {
   "cell_type": "code",
   "execution_count": 3,
   "metadata": {},
   "outputs": [
    {
     "name": "stdout",
     "output_type": "stream",
     "text": [
      "OrderedDict([('fc1.weight', tensor([[-0.3427, -0.2033,  0.4842,  0.1578],\n",
      "        [ 0.3134,  0.2830,  0.4041, -0.4798],\n",
      "        [-0.1142,  0.2313,  0.4118, -0.2118],\n",
      "        [-0.4191, -0.0824,  0.4373, -0.3539]])), ('fc1.bias', tensor([-0.3990, -0.2006,  0.2941, -0.3459])), ('fc2.weight', tensor([[ 0.4834,  0.4472, -0.4185,  0.0995],\n",
      "        [ 0.0701,  0.0525,  0.2630, -0.0287]])), ('fc2.bias', tensor([ 0.3917, -0.3640]))])\n"
     ]
    }
   ],
   "source": [
    "print(net.state_dict())"
   ]
  },
  {
   "cell_type": "code",
   "execution_count": 4,
   "metadata": {},
   "outputs": [
    {
     "name": "stdout",
     "output_type": "stream",
     "text": [
      "tensor([[0.1261, 0.0085]], grad_fn=<AddBackward0>)\n"
     ]
    }
   ],
   "source": [
    "print(net(x))"
   ]
  },
  {
   "cell_type": "markdown",
   "metadata": {},
   "source": [
    "# Add noise to the net`"
   ]
  },
  {
   "cell_type": "code",
   "execution_count": 5,
   "metadata": {},
   "outputs": [
    {
     "data": {
      "text/plain": [
       "GliaNet(\n",
       "  (fc1): Slide(in_features=4, out_features=4, bias=True)\n",
       "  (fc2): Gather(in_features=4, out_features=2, bias=True)\n",
       ")"
      ]
     },
     "execution_count": 5,
     "metadata": {},
     "output_type": "execute_result"
    }
   ],
   "source": [
    "noise = WeightNoise(.05)\n",
    "net.apply(noise)"
   ]
  },
  {
   "cell_type": "code",
   "execution_count": 6,
   "metadata": {},
   "outputs": [
    {
     "name": "stdout",
     "output_type": "stream",
     "text": [
      "OrderedDict([('fc1.weight', tensor([[-0.3128, -0.2219,  0.5441,  0.1779],\n",
      "        [ 0.3258,  0.3897,  0.4004, -0.4754],\n",
      "        [-0.2146,  0.2446,  0.3605, -0.1491],\n",
      "        [-0.4010, -0.1423,  0.3702, -0.3478]])), ('fc1.bias', tensor([-0.3990, -0.2006,  0.2941, -0.3459])), ('fc2.weight', tensor([[ 0.5563,  0.4668, -0.5004,  0.1363],\n",
      "        [ 0.0401,  0.1108,  0.2897, -0.1559]])), ('fc2.bias', tensor([ 0.3917, -0.3640]))])\n"
     ]
    }
   ],
   "source": [
    "print(net.state_dict())"
   ]
  },
  {
   "cell_type": "code",
   "execution_count": 7,
   "metadata": {},
   "outputs": [
    {
     "name": "stdout",
     "output_type": "stream",
     "text": [
      "tensor([[0.1393, 0.0226]], grad_fn=<AddBackward0>)\n"
     ]
    }
   ],
   "source": [
    "print(net(x))"
   ]
  },
  {
   "cell_type": "markdown",
   "metadata": {},
   "source": [
    "# Drop connections"
   ]
  },
  {
   "cell_type": "code",
   "execution_count": 34,
   "metadata": {},
   "outputs": [
    {
     "data": {
      "text/plain": [
       "GliaNet(\n",
       "  (fc1): Slide(in_features=4, out_features=4, bias=True)\n",
       "  (fc2): Gather(in_features=4, out_features=2, bias=True)\n",
       ")"
      ]
     },
     "execution_count": 34,
     "metadata": {},
     "output_type": "execute_result"
    }
   ],
   "source": [
    "lost = WeightLoss(.1)\n",
    "net.apply(lost)"
   ]
  },
  {
   "cell_type": "code",
   "execution_count": 35,
   "metadata": {},
   "outputs": [
    {
     "name": "stdout",
     "output_type": "stream",
     "text": [
      "OrderedDict([('fc1.weight', tensor([[-0.0000, -0.2219,  0.0000,  0.0000],\n",
      "        [ 0.0000,  0.0000,  0.4004, -0.0000],\n",
      "        [-0.2146,  0.0000,  0.0000, -0.0000],\n",
      "        [-0.0000, -0.0000,  0.0000, -0.0000]])), ('fc1.bias', tensor([-0.3990, -0.2006,  0.2941, -0.3459])), ('fc2.weight', tensor([[0.5563, 0.0000, -0.0000, 0.1363],\n",
      "        [0.0000, 0.0000, 0.2897, -0.0000]])), ('fc2.bias', tensor([ 0.3917, -0.3640]))])\n"
     ]
    }
   ],
   "source": [
    "print(net.state_dict())"
   ]
  },
  {
   "cell_type": "code",
   "execution_count": 36,
   "metadata": {},
   "outputs": [
    {
     "name": "stdout",
     "output_type": "stream",
     "text": [
      "tensor([[-0.0128,  0.0000]], grad_fn=<AddBackward0>)\n"
     ]
    }
   ],
   "source": [
    "print(net(x))"
   ]
  },
  {
   "cell_type": "code",
   "execution_count": null,
   "metadata": {},
   "outputs": [],
   "source": []
  },
  {
   "cell_type": "code",
   "execution_count": null,
   "metadata": {},
   "outputs": [],
   "source": []
  }
 ],
 "metadata": {
  "kernelspec": {
   "display_name": "Python 3",
   "language": "python",
   "name": "python3"
  },
  "language_info": {
   "codemirror_mode": {
    "name": "ipython",
    "version": 3
   },
   "file_extension": ".py",
   "mimetype": "text/x-python",
   "name": "python",
   "nbconvert_exporter": "python",
   "pygments_lexer": "ipython3",
   "version": "3.6.7"
  }
 },
 "nbformat": 4,
 "nbformat_minor": 2
}
