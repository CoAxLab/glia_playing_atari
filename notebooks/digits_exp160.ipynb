{
 "cells": [
  {
   "cell_type": "code",
   "execution_count": 10,
   "metadata": {},
   "outputs": [
    {
     "data": {
      "application/javascript": [
       "\n",
       "            setTimeout(function() {\n",
       "                var nbb_cell_id = 10;\n",
       "                var nbb_unformatted_code = \"import os\\nimport numpy as np\\n\\nfrom IPython.display import Image\\nimport matplotlib\\nimport matplotlib.pyplot as plt\\n\\nimport torch\\nimport glob\\nfrom collections import defaultdict\";\n",
       "                var nbb_formatted_code = \"import os\\nimport numpy as np\\n\\nfrom IPython.display import Image\\nimport matplotlib\\nimport matplotlib.pyplot as plt\\n\\nimport torch\\nimport glob\\nfrom collections import defaultdict\";\n",
       "                var nbb_cells = Jupyter.notebook.get_cells();\n",
       "                for (var i = 0; i < nbb_cells.length; ++i) {\n",
       "                    if (nbb_cells[i].input_prompt_number == nbb_cell_id) {\n",
       "                        if (nbb_cells[i].get_text() == nbb_unformatted_code) {\n",
       "                             nbb_cells[i].set_text(nbb_formatted_code);\n",
       "                        }\n",
       "                        break;\n",
       "                    }\n",
       "                }\n",
       "            }, 500);\n",
       "            "
      ],
      "text/plain": [
       "<IPython.core.display.Javascript object>"
      ]
     },
     "metadata": {},
     "output_type": "display_data"
    }
   ],
   "source": [
    "import os\n",
    "import numpy as np\n",
    "\n",
    "from IPython.display import Image\n",
    "import matplotlib\n",
    "import matplotlib.pyplot as plt\n",
    "\n",
    "import torch\n",
    "import glob\n",
    "from collections import defaultdict"
   ]
  },
  {
   "cell_type": "code",
   "execution_count": 11,
   "metadata": {},
   "outputs": [
    {
     "name": "stdout",
     "output_type": "stream",
     "text": [
      "The nb_black extension is already loaded. To reload it, use:\n",
      "  %reload_ext nb_black\n",
      "The autoreload extension is already loaded. To reload it, use:\n",
      "  %reload_ext autoreload\n"
     ]
    },
    {
     "data": {
      "application/javascript": [
       "\n",
       "            setTimeout(function() {\n",
       "                var nbb_cell_id = 11;\n",
       "                var nbb_unformatted_code = \"# Pretty plots\\n%matplotlib inline\\n%config InlineBackend.figure_format='retina'\\n%config IPCompleter.greedy=True\\n\\nimport seaborn as sns\\n\\nsns.set(font_scale=1)\\nsns.set_style(\\\"ticks\\\")\\n\\nplt.rcParams[\\\"axes.facecolor\\\"] = \\\"white\\\"\\nplt.rcParams[\\\"figure.facecolor\\\"] = \\\"white\\\"\\nplt.rcParams[\\\"font.size\\\"] = \\\"14\\\"\\n\\n# Uncomment for local development\\n%load_ext nb_black\\n%load_ext autoreload\\n%autoreload 2\";\n",
       "                var nbb_formatted_code = \"# Pretty plots\\n%matplotlib inline\\n%config InlineBackend.figure_format='retina'\\n%config IPCompleter.greedy=True\\n\\nimport seaborn as sns\\n\\nsns.set(font_scale=1)\\nsns.set_style(\\\"ticks\\\")\\n\\nplt.rcParams[\\\"axes.facecolor\\\"] = \\\"white\\\"\\nplt.rcParams[\\\"figure.facecolor\\\"] = \\\"white\\\"\\nplt.rcParams[\\\"font.size\\\"] = \\\"14\\\"\\n\\n# Uncomment for local development\\n%load_ext nb_black\\n%load_ext autoreload\\n%autoreload 2\";\n",
       "                var nbb_cells = Jupyter.notebook.get_cells();\n",
       "                for (var i = 0; i < nbb_cells.length; ++i) {\n",
       "                    if (nbb_cells[i].input_prompt_number == nbb_cell_id) {\n",
       "                        if (nbb_cells[i].get_text() == nbb_unformatted_code) {\n",
       "                             nbb_cells[i].set_text(nbb_formatted_code);\n",
       "                        }\n",
       "                        break;\n",
       "                    }\n",
       "                }\n",
       "            }, 500);\n",
       "            "
      ],
      "text/plain": [
       "<IPython.core.display.Javascript object>"
      ]
     },
     "metadata": {},
     "output_type": "display_data"
    }
   ],
   "source": [
    "# Pretty plots\n",
    "%matplotlib inline\n",
    "%config InlineBackend.figure_format='retina'\n",
    "%config IPCompleter.greedy=True\n",
    "\n",
    "import seaborn as sns\n",
    "\n",
    "sns.set(font_scale=1)\n",
    "sns.set_style(\"ticks\")\n",
    "\n",
    "plt.rcParams[\"axes.facecolor\"] = \"white\"\n",
    "plt.rcParams[\"figure.facecolor\"] = \"white\"\n",
    "plt.rcParams[\"font.size\"] = \"14\"\n",
    "\n",
    "# Uncomment for local development\n",
    "%load_ext nb_black\n",
    "%load_ext autoreload\n",
    "%autoreload 2"
   ]
  },
  {
   "cell_type": "code",
   "execution_count": 12,
   "metadata": {},
   "outputs": [
    {
     "data": {
      "application/javascript": [
       "\n",
       "            setTimeout(function() {\n",
       "                var nbb_cell_id = 12;\n",
       "                var nbb_unformatted_code = \"def get_data(files, *keys):\\n    \\\"\\\"\\\"Get data keys from saved digit exps.\\\"\\\"\\\"\\n    data = defaultdict(list)\\n    for f in files:\\n        d = torch.load(f)\\n        for k in keys:\\n            data[k].append(d[k])\\n\\n    return data\";\n",
       "                var nbb_formatted_code = \"def get_data(files, *keys):\\n    \\\"\\\"\\\"Get data keys from saved digit exps.\\\"\\\"\\\"\\n    data = defaultdict(list)\\n    for f in files:\\n        d = torch.load(f)\\n        for k in keys:\\n            data[k].append(d[k])\\n\\n    return data\";\n",
       "                var nbb_cells = Jupyter.notebook.get_cells();\n",
       "                for (var i = 0; i < nbb_cells.length; ++i) {\n",
       "                    if (nbb_cells[i].input_prompt_number == nbb_cell_id) {\n",
       "                        if (nbb_cells[i].get_text() == nbb_unformatted_code) {\n",
       "                             nbb_cells[i].set_text(nbb_formatted_code);\n",
       "                        }\n",
       "                        break;\n",
       "                    }\n",
       "                }\n",
       "            }, 500);\n",
       "            "
      ],
      "text/plain": [
       "<IPython.core.display.Javascript object>"
      ]
     },
     "metadata": {},
     "output_type": "display_data"
    }
   ],
   "source": [
    "def get_data(files, *keys):\n",
    "    \"\"\"Get data keys from saved digit exps.\"\"\"\n",
    "    data = defaultdict(list)\n",
    "    for f in files:\n",
    "        d = torch.load(f)\n",
    "        for k in keys:\n",
    "            data[k].append(d[k])\n",
    "\n",
    "    return data"
   ]
  },
  {
   "cell_type": "code",
   "execution_count": 13,
   "metadata": {},
   "outputs": [
    {
     "data": {
      "application/javascript": [
       "\n",
       "            setTimeout(function() {\n",
       "                var nbb_cell_id = 13;\n",
       "                var nbb_unformatted_code = \"files = glob.glob(\\\"/Users/qualia/Code/glia_playing_atari/data/digits_exp155*\\\")\\nexp155 = get_data(files, \\\"correct\\\")\\n\\nfiles = glob.glob(\\\"/Users/qualia/Code/glia_playing_atari/data/digits_exp160_p01_*\\\")\\nexp160_p01 = get_data(files, \\\"correct\\\")\\n\\nfiles = glob.glob(\\\"/Users/qualia/Code/glia_playing_atari/data/digits_exp160_p05_*\\\")\\nexp160_p05 = get_data(files, \\\"correct\\\")\\n\\nfiles = glob.glob(\\\"/Users/qualia/Code/glia_playing_atari/data/digits_exp160_p1_*\\\")\\nexp160_p1 = get_data(files, \\\"correct\\\")\\n\\nfiles = glob.glob(\\\"/Users/qualia/Code/glia_playing_atari/data/digits_exp160_p2_*\\\")\\nexp160_p2 = get_data(files, \\\"correct\\\")\";\n",
       "                var nbb_formatted_code = \"files = glob.glob(\\\"/Users/qualia/Code/glia_playing_atari/data/digits_exp155*\\\")\\nexp155 = get_data(files, \\\"correct\\\")\\n\\nfiles = glob.glob(\\\"/Users/qualia/Code/glia_playing_atari/data/digits_exp160_p01_*\\\")\\nexp160_p01 = get_data(files, \\\"correct\\\")\\n\\nfiles = glob.glob(\\\"/Users/qualia/Code/glia_playing_atari/data/digits_exp160_p05_*\\\")\\nexp160_p05 = get_data(files, \\\"correct\\\")\\n\\nfiles = glob.glob(\\\"/Users/qualia/Code/glia_playing_atari/data/digits_exp160_p1_*\\\")\\nexp160_p1 = get_data(files, \\\"correct\\\")\\n\\nfiles = glob.glob(\\\"/Users/qualia/Code/glia_playing_atari/data/digits_exp160_p2_*\\\")\\nexp160_p2 = get_data(files, \\\"correct\\\")\";\n",
       "                var nbb_cells = Jupyter.notebook.get_cells();\n",
       "                for (var i = 0; i < nbb_cells.length; ++i) {\n",
       "                    if (nbb_cells[i].input_prompt_number == nbb_cell_id) {\n",
       "                        if (nbb_cells[i].get_text() == nbb_unformatted_code) {\n",
       "                             nbb_cells[i].set_text(nbb_formatted_code);\n",
       "                        }\n",
       "                        break;\n",
       "                    }\n",
       "                }\n",
       "            }, 500);\n",
       "            "
      ],
      "text/plain": [
       "<IPython.core.display.Javascript object>"
      ]
     },
     "metadata": {},
     "output_type": "display_data"
    }
   ],
   "source": [
    "files = glob.glob(\"/Users/qualia/Code/glia_playing_atari/data/digits_exp155*\")\n",
    "exp155 = get_data(files, \"correct\")\n",
    "\n",
    "files = glob.glob(\"/Users/qualia/Code/glia_playing_atari/data/digits_exp160_p01_*\")\n",
    "exp160_p01 = get_data(files, \"correct\")\n",
    "\n",
    "files = glob.glob(\"/Users/qualia/Code/glia_playing_atari/data/digits_exp160_p05_*\")\n",
    "exp160_p05 = get_data(files, \"correct\")\n",
    "\n",
    "files = glob.glob(\"/Users/qualia/Code/glia_playing_atari/data/digits_exp160_p1_*\")\n",
    "exp160_p1 = get_data(files, \"correct\")\n",
    "\n",
    "files = glob.glob(\"/Users/qualia/Code/glia_playing_atari/data/digits_exp160_p2_*\")\n",
    "exp160_p2 = get_data(files, \"correct\")"
   ]
  },
  {
   "cell_type": "markdown",
   "metadata": {},
   "source": [
    "Show example"
   ]
  },
  {
   "cell_type": "code",
   "execution_count": 14,
   "metadata": {},
   "outputs": [
    {
     "data": {
      "text/plain": [
       "defaultdict(list,\n",
       "            {'correct': [0.7921,\n",
       "              0.8053,\n",
       "              0.8025,\n",
       "              0.8055,\n",
       "              0.7878,\n",
       "              0.7893,\n",
       "              0.8018,\n",
       "              0.8093,\n",
       "              0.793,\n",
       "              0.785,\n",
       "              0.8064,\n",
       "              0.8002,\n",
       "              0.8062,\n",
       "              0.7942,\n",
       "              0.794,\n",
       "              0.8014,\n",
       "              0.8013,\n",
       "              0.7961,\n",
       "              0.8002,\n",
       "              0.799]})"
      ]
     },
     "execution_count": 14,
     "metadata": {},
     "output_type": "execute_result"
    },
    {
     "data": {
      "application/javascript": [
       "\n",
       "            setTimeout(function() {\n",
       "                var nbb_cell_id = 14;\n",
       "                var nbb_unformatted_code = \"exp160_p01\";\n",
       "                var nbb_formatted_code = \"exp160_p01\";\n",
       "                var nbb_cells = Jupyter.notebook.get_cells();\n",
       "                for (var i = 0; i < nbb_cells.length; ++i) {\n",
       "                    if (nbb_cells[i].input_prompt_number == nbb_cell_id) {\n",
       "                        if (nbb_cells[i].get_text() == nbb_unformatted_code) {\n",
       "                             nbb_cells[i].set_text(nbb_formatted_code);\n",
       "                        }\n",
       "                        break;\n",
       "                    }\n",
       "                }\n",
       "            }, 500);\n",
       "            "
      ],
      "text/plain": [
       "<IPython.core.display.Javascript object>"
      ]
     },
     "metadata": {},
     "output_type": "display_data"
    }
   ],
   "source": [
    "exp160_p01"
   ]
  },
  {
   "cell_type": "markdown",
   "metadata": {},
   "source": [
    "Gather data"
   ]
  },
  {
   "cell_type": "code",
   "execution_count": 15,
   "metadata": {},
   "outputs": [
    {
     "data": {
      "application/javascript": [
       "\n",
       "            setTimeout(function() {\n",
       "                var nbb_cell_id = 15;\n",
       "                var nbb_unformatted_code = \"model_names = [\\\"0.00\\\", \\\"0.01\\\", \\\"0.05\\\", \\\"0.10\\\", \\\"0.20\\\"]\\nmodels = [exp155, exp160_p01, exp160_p05, exp160_p1, exp160_p2]\";\n",
       "                var nbb_formatted_code = \"model_names = [\\\"0.00\\\", \\\"0.01\\\", \\\"0.05\\\", \\\"0.10\\\", \\\"0.20\\\"]\\nmodels = [exp155, exp160_p01, exp160_p05, exp160_p1, exp160_p2]\";\n",
       "                var nbb_cells = Jupyter.notebook.get_cells();\n",
       "                for (var i = 0; i < nbb_cells.length; ++i) {\n",
       "                    if (nbb_cells[i].input_prompt_number == nbb_cell_id) {\n",
       "                        if (nbb_cells[i].get_text() == nbb_unformatted_code) {\n",
       "                             nbb_cells[i].set_text(nbb_formatted_code);\n",
       "                        }\n",
       "                        break;\n",
       "                    }\n",
       "                }\n",
       "            }, 500);\n",
       "            "
      ],
      "text/plain": [
       "<IPython.core.display.Javascript object>"
      ]
     },
     "metadata": {},
     "output_type": "display_data"
    }
   ],
   "source": [
    "model_names = [\"0.00\", \"0.01\", \"0.05\", \"0.10\", \"0.20\"]\n",
    "models = [exp155, exp160_p01, exp160_p05, exp160_p1, exp160_p2]"
   ]
  },
  {
   "cell_type": "markdown",
   "metadata": {},
   "source": [
    "Est stats"
   ]
  },
  {
   "cell_type": "code",
   "execution_count": 16,
   "metadata": {},
   "outputs": [
    {
     "data": {
      "application/javascript": [
       "\n",
       "            setTimeout(function() {\n",
       "                var nbb_cell_id = 16;\n",
       "                var nbb_unformatted_code = \"means = [np.mean(exp[\\\"correct\\\"]) for exp in models]\\nstds = [np.std(exp[\\\"correct\\\"]) for exp in models]\\nmedians = [np.median(exp[\\\"correct\\\"]) for exp in models]\\nassert len(means) == len(models)\";\n",
       "                var nbb_formatted_code = \"means = [np.mean(exp[\\\"correct\\\"]) for exp in models]\\nstds = [np.std(exp[\\\"correct\\\"]) for exp in models]\\nmedians = [np.median(exp[\\\"correct\\\"]) for exp in models]\\nassert len(means) == len(models)\";\n",
       "                var nbb_cells = Jupyter.notebook.get_cells();\n",
       "                for (var i = 0; i < nbb_cells.length; ++i) {\n",
       "                    if (nbb_cells[i].input_prompt_number == nbb_cell_id) {\n",
       "                        if (nbb_cells[i].get_text() == nbb_unformatted_code) {\n",
       "                             nbb_cells[i].set_text(nbb_formatted_code);\n",
       "                        }\n",
       "                        break;\n",
       "                    }\n",
       "                }\n",
       "            }, 500);\n",
       "            "
      ],
      "text/plain": [
       "<IPython.core.display.Javascript object>"
      ]
     },
     "metadata": {},
     "output_type": "display_data"
    }
   ],
   "source": [
    "means = [np.mean(exp[\"correct\"]) for exp in models]\n",
    "stds = [np.std(exp[\"correct\"]) for exp in models]\n",
    "medians = [np.median(exp[\"correct\"]) for exp in models]\n",
    "assert len(means) == len(models)"
   ]
  },
  {
   "cell_type": "markdown",
   "metadata": {},
   "source": [
    "Plot means"
   ]
  },
  {
   "cell_type": "code",
   "execution_count": 17,
   "metadata": {},
   "outputs": [
    {
     "data": {
      "image/png": "[encoded data removed]",
      "text/plain": [
       "<Figure size 432x432 with 1 Axes>"
      ]
     },
     "metadata": {
      "image/png": {
       "height": 165,
       "width": 395
      }
     },
     "output_type": "display_data"
    },
    {
     "data": {
      "application/javascript": [
       "\n",
       "            setTimeout(function() {\n",
       "                var nbb_cell_id = 17;\n",
       "                var nbb_unformatted_code = \"fig = plt.figure(figsize=(6, 6))\\ngrid = plt.GridSpec(2, 1, wspace=0.3, hspace=0.8)\\n\\n# Mean\\nplt.subplot(grid[0, 0])\\nplt.bar(model_names, means, color=\\\"grey\\\", alpha=0.2, width=0.8)\\nfor name, model in zip(model_names, models):\\n    n = len(model[\\\"correct\\\"])\\n    plt.scatter(x=np.repeat(name, n), y=model[\\\"correct\\\"], color=\\\"black\\\", alpha=0.1)\\nplt.ylim(0, 1.1)\\nplt.ylabel(\\\"Accuracy\\\")\\nplt.xlabel(\\\"Drop probability\\\")\\n_ = sns.despine()\";\n",
       "                var nbb_formatted_code = \"fig = plt.figure(figsize=(6, 6))\\ngrid = plt.GridSpec(2, 1, wspace=0.3, hspace=0.8)\\n\\n# Mean\\nplt.subplot(grid[0, 0])\\nplt.bar(model_names, means, color=\\\"grey\\\", alpha=0.2, width=0.8)\\nfor name, model in zip(model_names, models):\\n    n = len(model[\\\"correct\\\"])\\n    plt.scatter(x=np.repeat(name, n), y=model[\\\"correct\\\"], color=\\\"black\\\", alpha=0.1)\\nplt.ylim(0, 1.1)\\nplt.ylabel(\\\"Accuracy\\\")\\nplt.xlabel(\\\"Drop probability\\\")\\n_ = sns.despine()\";\n",
       "                var nbb_cells = Jupyter.notebook.get_cells();\n",
       "                for (var i = 0; i < nbb_cells.length; ++i) {\n",
       "                    if (nbb_cells[i].input_prompt_number == nbb_cell_id) {\n",
       "                        if (nbb_cells[i].get_text() == nbb_unformatted_code) {\n",
       "                             nbb_cells[i].set_text(nbb_formatted_code);\n",
       "                        }\n",
       "                        break;\n",
       "                    }\n",
       "                }\n",
       "            }, 500);\n",
       "            "
      ],
      "text/plain": [
       "<IPython.core.display.Javascript object>"
      ]
     },
     "metadata": {},
     "output_type": "display_data"
    }
   ],
   "source": [
    "fig = plt.figure(figsize=(6, 6))\n",
    "grid = plt.GridSpec(2, 1, wspace=0.3, hspace=0.8)\n",
    "\n",
    "# Mean\n",
    "plt.subplot(grid[0, 0])\n",
    "plt.bar(model_names, means, color=\"grey\", alpha=0.2, width=0.8)\n",
    "for name, model in zip(model_names, models):\n",
    "    n = len(model[\"correct\"])\n",
    "    plt.scatter(x=np.repeat(name, n), y=model[\"correct\"], color=\"black\", alpha=0.1)\n",
    "plt.ylim(0, 1.1)\n",
    "plt.ylabel(\"Accuracy\")\n",
    "plt.xlabel(\"Drop probability\")\n",
    "_ = sns.despine()"
   ]
  },
  {
   "cell_type": "markdown",
   "metadata": {},
   "source": [
    "Plot medians"
   ]
  },
  {
   "cell_type": "code",
   "execution_count": 18,
   "metadata": {},
   "outputs": [
    {
     "data": {
      "image/png": "[encoded data removed]",
      "text/plain": [
       "<Figure size 432x432 with 1 Axes>"
      ]
     },
     "metadata": {
      "image/png": {
       "height": 165,
       "width": 395
      }
     },
     "output_type": "display_data"
    },
    {
     "data": {
      "application/javascript": [
       "\n",
       "            setTimeout(function() {\n",
       "                var nbb_cell_id = 18;\n",
       "                var nbb_unformatted_code = \"fig = plt.figure(figsize=(6, 6))\\ngrid = plt.GridSpec(2, 1, wspace=0.3, hspace=0.8)\\n\\n# Mean\\nplt.subplot(grid[0, 0])\\nplt.bar(model_names, medians, color=\\\"grey\\\", alpha=0.2, width=0.8)\\nfor name, model in zip(model_names, models):\\n    n = len(model[\\\"correct\\\"])\\n    plt.scatter(x=np.repeat(name, n), y=model[\\\"correct\\\"], color=\\\"black\\\", alpha=0.1)\\nplt.ylim(0, 1.1)\\nplt.ylabel(\\\"Accuracy\\\")\\nplt.xlabel(\\\"Drop probability\\\")\\n_ = sns.despine()\";\n",
       "                var nbb_formatted_code = \"fig = plt.figure(figsize=(6, 6))\\ngrid = plt.GridSpec(2, 1, wspace=0.3, hspace=0.8)\\n\\n# Mean\\nplt.subplot(grid[0, 0])\\nplt.bar(model_names, medians, color=\\\"grey\\\", alpha=0.2, width=0.8)\\nfor name, model in zip(model_names, models):\\n    n = len(model[\\\"correct\\\"])\\n    plt.scatter(x=np.repeat(name, n), y=model[\\\"correct\\\"], color=\\\"black\\\", alpha=0.1)\\nplt.ylim(0, 1.1)\\nplt.ylabel(\\\"Accuracy\\\")\\nplt.xlabel(\\\"Drop probability\\\")\\n_ = sns.despine()\";\n",
       "                var nbb_cells = Jupyter.notebook.get_cells();\n",
       "                for (var i = 0; i < nbb_cells.length; ++i) {\n",
       "                    if (nbb_cells[i].input_prompt_number == nbb_cell_id) {\n",
       "                        if (nbb_cells[i].get_text() == nbb_unformatted_code) {\n",
       "                             nbb_cells[i].set_text(nbb_formatted_code);\n",
       "                        }\n",
       "                        break;\n",
       "                    }\n",
       "                }\n",
       "            }, 500);\n",
       "            "
      ],
      "text/plain": [
       "<IPython.core.display.Javascript object>"
      ]
     },
     "metadata": {},
     "output_type": "display_data"
    }
   ],
   "source": [
    "fig = plt.figure(figsize=(6, 6))\n",
    "grid = plt.GridSpec(2, 1, wspace=0.3, hspace=0.8)\n",
    "\n",
    "# Mean\n",
    "plt.subplot(grid[0, 0])\n",
    "plt.bar(model_names, medians, color=\"grey\", alpha=0.2, width=0.8)\n",
    "for name, model in zip(model_names, models):\n",
    "    n = len(model[\"correct\"])\n",
    "    plt.scatter(x=np.repeat(name, n), y=model[\"correct\"], color=\"black\", alpha=0.1)\n",
    "plt.ylim(0, 1.1)\n",
    "plt.ylabel(\"Accuracy\")\n",
    "plt.xlabel(\"Drop probability\")\n",
    "_ = sns.despine()"
   ]
  },
  {
   "cell_type": "code",
   "execution_count": null,
   "metadata": {},
   "outputs": [],
   "source": []
  }
 ],
 "metadata": {
  "kernelspec": {
   "display_name": "Python 3",
   "language": "python",
   "name": "python3"
  },
  "language_info": {
   "codemirror_mode": {
    "name": "ipython",
    "version": 3
   },
   "file_extension": ".py",
   "mimetype": "text/x-python",
   "name": "python",
   "nbconvert_exporter": "python",
   "pygments_lexer": "ipython3",
   "version": "3.6.7"
  }
 },
 "nbformat": 4,
 "nbformat_minor": 2
}
