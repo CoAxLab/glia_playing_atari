{
 "cells": [
  {
   "cell_type": "code",
   "execution_count": 72,
   "metadata": {},
   "outputs": [
    {
     "data": {
      "application/javascript": [
       "\n",
       "            setTimeout(function() {\n",
       "                var nbb_cell_id = 72;\n",
       "                var nbb_unformatted_code = \"import os\\nimport numpy as np\\nimport matplotlib\\nimport matplotlib.pyplot as plt\\nimport torch\\nimport glob\\nfrom collections import defaultdict\";\n",
       "                var nbb_formatted_code = \"import os\\nimport numpy as np\\nimport matplotlib\\nimport matplotlib.pyplot as plt\\nimport torch\\nimport glob\\nfrom collections import defaultdict\";\n",
       "                var nbb_cells = Jupyter.notebook.get_cells();\n",
       "                for (var i = 0; i < nbb_cells.length; ++i) {\n",
       "                    if (nbb_cells[i].input_prompt_number == nbb_cell_id) {\n",
       "                        if (nbb_cells[i].get_text() == nbb_unformatted_code) {\n",
       "                             nbb_cells[i].set_text(nbb_formatted_code);\n",
       "                        }\n",
       "                        break;\n",
       "                    }\n",
       "                }\n",
       "            }, 500);\n",
       "            "
      ],
      "text/plain": [
       "<IPython.core.display.Javascript object>"
      ]
     },
     "metadata": {},
     "output_type": "display_data"
    }
   ],
   "source": [
    "import os\n",
    "import numpy as np\n",
    "import matplotlib\n",
    "import matplotlib.pyplot as plt\n",
    "import torch\n",
    "import glob\n",
    "from collections import defaultdict"
   ]
  },
  {
   "cell_type": "code",
   "execution_count": 73,
   "metadata": {},
   "outputs": [
    {
     "name": "stdout",
     "output_type": "stream",
     "text": [
      "The nb_black extension is already loaded. To reload it, use:\n",
      "  %reload_ext nb_black\n",
      "The autoreload extension is already loaded. To reload it, use:\n",
      "  %reload_ext autoreload\n"
     ]
    },
    {
     "data": {
      "application/javascript": [
       "\n",
       "            setTimeout(function() {\n",
       "                var nbb_cell_id = 73;\n",
       "                var nbb_unformatted_code = \"# Pretty plots\\n%matplotlib inline\\n%config InlineBackend.figure_format='retina'\\n%config IPCompleter.greedy=True\\n\\nimport seaborn as sns\\n\\nsns.set(font_scale=2)\\nsns.set_style(\\\"ticks\\\")\\n\\nplt.rcParams[\\\"axes.facecolor\\\"] = \\\"white\\\"\\nplt.rcParams[\\\"figure.facecolor\\\"] = \\\"white\\\"\\nplt.rcParams[\\\"font.size\\\"] = \\\"14\\\"\\nplt.rcParams[\\\"legend.title_fontsize\\\"] = \\\"14\\\"\\n# Uncomment for local development\\n%load_ext nb_black\\n%load_ext autoreload\\n%autoreload 2\";\n",
       "                var nbb_formatted_code = \"# Pretty plots\\n%matplotlib inline\\n%config InlineBackend.figure_format='retina'\\n%config IPCompleter.greedy=True\\n\\nimport seaborn as sns\\n\\nsns.set(font_scale=2)\\nsns.set_style(\\\"ticks\\\")\\n\\nplt.rcParams[\\\"axes.facecolor\\\"] = \\\"white\\\"\\nplt.rcParams[\\\"figure.facecolor\\\"] = \\\"white\\\"\\nplt.rcParams[\\\"font.size\\\"] = \\\"14\\\"\\nplt.rcParams[\\\"legend.title_fontsize\\\"] = \\\"14\\\"\\n# Uncomment for local development\\n%load_ext nb_black\\n%load_ext autoreload\\n%autoreload 2\";\n",
       "                var nbb_cells = Jupyter.notebook.get_cells();\n",
       "                for (var i = 0; i < nbb_cells.length; ++i) {\n",
       "                    if (nbb_cells[i].input_prompt_number == nbb_cell_id) {\n",
       "                        if (nbb_cells[i].get_text() == nbb_unformatted_code) {\n",
       "                             nbb_cells[i].set_text(nbb_formatted_code);\n",
       "                        }\n",
       "                        break;\n",
       "                    }\n",
       "                }\n",
       "            }, 500);\n",
       "            "
      ],
      "text/plain": [
       "<IPython.core.display.Javascript object>"
      ]
     },
     "metadata": {},
     "output_type": "display_data"
    }
   ],
   "source": [
    "# Pretty plots\n",
    "%matplotlib inline\n",
    "%config InlineBackend.figure_format='retina'\n",
    "%config IPCompleter.greedy=True\n",
    "\n",
    "import seaborn as sns\n",
    "\n",
    "sns.set(font_scale=2)\n",
    "sns.set_style(\"ticks\")\n",
    "\n",
    "plt.rcParams[\"axes.facecolor\"] = \"white\"\n",
    "plt.rcParams[\"figure.facecolor\"] = \"white\"\n",
    "plt.rcParams[\"font.size\"] = \"14\"\n",
    "plt.rcParams[\"legend.title_fontsize\"] = \"14\"\n",
    "# Uncomment for local development\n",
    "%load_ext nb_black\n",
    "%load_ext autoreload\n",
    "%autoreload 2"
   ]
  },
  {
   "cell_type": "markdown",
   "metadata": {},
   "source": [
    "Shared fns"
   ]
  },
  {
   "cell_type": "code",
   "execution_count": 74,
   "metadata": {},
   "outputs": [
    {
     "data": {
      "application/javascript": [
       "\n",
       "            setTimeout(function() {\n",
       "                var nbb_cell_id = 74;\n",
       "                var nbb_unformatted_code = \"def get_data(files, *keys):\\n    \\\"\\\"\\\"Get data keys from saved digit exps.\\\"\\\"\\\"\\n    data = defaultdict(list)\\n    for f in files:\\n        d = torch.load(f)\\n        for k in keys:\\n            data[k].append(d[k])\\n\\n    return data\";\n",
       "                var nbb_formatted_code = \"def get_data(files, *keys):\\n    \\\"\\\"\\\"Get data keys from saved digit exps.\\\"\\\"\\\"\\n    data = defaultdict(list)\\n    for f in files:\\n        d = torch.load(f)\\n        for k in keys:\\n            data[k].append(d[k])\\n\\n    return data\";\n",
       "                var nbb_cells = Jupyter.notebook.get_cells();\n",
       "                for (var i = 0; i < nbb_cells.length; ++i) {\n",
       "                    if (nbb_cells[i].input_prompt_number == nbb_cell_id) {\n",
       "                        if (nbb_cells[i].get_text() == nbb_unformatted_code) {\n",
       "                             nbb_cells[i].set_text(nbb_formatted_code);\n",
       "                        }\n",
       "                        break;\n",
       "                    }\n",
       "                }\n",
       "            }, 500);\n",
       "            "
      ],
      "text/plain": [
       "<IPython.core.display.Javascript object>"
      ]
     },
     "metadata": {},
     "output_type": "display_data"
    }
   ],
   "source": [
    "def get_data(files, *keys):\n",
    "    \"\"\"Get data keys from saved digit exps.\"\"\"\n",
    "    data = defaultdict(list)\n",
    "    for f in files:\n",
    "        d = torch.load(f)\n",
    "        for k in keys:\n",
    "            data[k].append(d[k])\n",
    "\n",
    "    return data"
   ]
  },
  {
   "cell_type": "code",
   "execution_count": 75,
   "metadata": {},
   "outputs": [
    {
     "data": {
      "application/javascript": [
       "\n",
       "            setTimeout(function() {\n",
       "                var nbb_cell_id = 75;\n",
       "                var nbb_unformatted_code = \"def load_digit_online_exps():\\n    # Get\\n    files = glob.glob(\\\"/Users/qualia/Code/glia_playing_atari/data/digits_exp151_*\\\")\\n    exp151 = get_data(files, \\\"correct\\\")\\n\\n    files = glob.glob(\\\"/Users/qualia/Code/glia_playing_atari/data/digits_exp152_*\\\")\\n    exp152 = get_data(files, \\\"correct\\\")\\n\\n    # Gather\\n    models = [exp151, exp152]\\n    model_names = [\\\"Astrocytes\\\", \\\"Neurons\\\"]\\n\\n    # Sanity\\n    assert len(model_names) == len(models)\\n\\n    return model_names, models\";\n",
       "                var nbb_formatted_code = \"def load_digit_online_exps():\\n    # Get\\n    files = glob.glob(\\\"/Users/qualia/Code/glia_playing_atari/data/digits_exp151_*\\\")\\n    exp151 = get_data(files, \\\"correct\\\")\\n\\n    files = glob.glob(\\\"/Users/qualia/Code/glia_playing_atari/data/digits_exp152_*\\\")\\n    exp152 = get_data(files, \\\"correct\\\")\\n\\n    # Gather\\n    models = [exp151, exp152]\\n    model_names = [\\\"Astrocytes\\\", \\\"Neurons\\\"]\\n\\n    # Sanity\\n    assert len(model_names) == len(models)\\n\\n    return model_names, models\";\n",
       "                var nbb_cells = Jupyter.notebook.get_cells();\n",
       "                for (var i = 0; i < nbb_cells.length; ++i) {\n",
       "                    if (nbb_cells[i].input_prompt_number == nbb_cell_id) {\n",
       "                        if (nbb_cells[i].get_text() == nbb_unformatted_code) {\n",
       "                             nbb_cells[i].set_text(nbb_formatted_code);\n",
       "                        }\n",
       "                        break;\n",
       "                    }\n",
       "                }\n",
       "            }, 500);\n",
       "            "
      ],
      "text/plain": [
       "<IPython.core.display.Javascript object>"
      ]
     },
     "metadata": {},
     "output_type": "display_data"
    }
   ],
   "source": [
    "def load_digit_online_exps():\n",
    "    # Get\n",
    "    files = glob.glob(\"/Users/qualia/Code/glia_playing_atari/data/digits_exp151_*\")\n",
    "    exp151 = get_data(files, \"correct\")\n",
    "\n",
    "    files = glob.glob(\"/Users/qualia/Code/glia_playing_atari/data/digits_exp152_*\")\n",
    "    exp152 = get_data(files, \"correct\")\n",
    "\n",
    "    # Gather\n",
    "    models = [exp151, exp152]\n",
    "    model_names = [\"Astrocytes\", \"Neurons\"]\n",
    "\n",
    "    # Sanity\n",
    "    assert len(model_names) == len(models)\n",
    "\n",
    "    return model_names, models"
   ]
  },
  {
   "cell_type": "code",
   "execution_count": 76,
   "metadata": {},
   "outputs": [
    {
     "data": {
      "application/javascript": [
       "\n",
       "            setTimeout(function() {\n",
       "                var nbb_cell_id = 76;\n",
       "                var nbb_unformatted_code = \"def load_digit_pretrain_exps():\\n    # Pretrain VAE (fixed for all exps)\\n    files = glob.glob(\\\"/Users/qualia/Code/glia_playing_atari/data/digits_exp153_*\\\")\\n    exp153 = get_data(files, \\\"correct\\\")\\n\\n    files = glob.glob(\\\"/Users/qualia/Code/glia_playing_atari/data/digits_exp154_*\\\")\\n    exp154 = get_data(files, \\\"correct\\\")\\n\\n    # Gather\\n    models = [exp153, exp154]\\n    model_names = [\\\"Astrocytes\\\", \\\"Neurons\\\"]\\n\\n    # Sanity\\n    assert len(model_names) == len(models)\\n\\n    return model_names, models\";\n",
       "                var nbb_formatted_code = \"def load_digit_pretrain_exps():\\n    # Pretrain VAE (fixed for all exps)\\n    files = glob.glob(\\\"/Users/qualia/Code/glia_playing_atari/data/digits_exp153_*\\\")\\n    exp153 = get_data(files, \\\"correct\\\")\\n\\n    files = glob.glob(\\\"/Users/qualia/Code/glia_playing_atari/data/digits_exp154_*\\\")\\n    exp154 = get_data(files, \\\"correct\\\")\\n\\n    # Gather\\n    models = [exp153, exp154]\\n    model_names = [\\\"Astrocytes\\\", \\\"Neurons\\\"]\\n\\n    # Sanity\\n    assert len(model_names) == len(models)\\n\\n    return model_names, models\";\n",
       "                var nbb_cells = Jupyter.notebook.get_cells();\n",
       "                for (var i = 0; i < nbb_cells.length; ++i) {\n",
       "                    if (nbb_cells[i].input_prompt_number == nbb_cell_id) {\n",
       "                        if (nbb_cells[i].get_text() == nbb_unformatted_code) {\n",
       "                             nbb_cells[i].set_text(nbb_formatted_code);\n",
       "                        }\n",
       "                        break;\n",
       "                    }\n",
       "                }\n",
       "            }, 500);\n",
       "            "
      ],
      "text/plain": [
       "<IPython.core.display.Javascript object>"
      ]
     },
     "metadata": {},
     "output_type": "display_data"
    }
   ],
   "source": [
    "def load_digit_pretrain_exps():\n",
    "    # Pretrain VAE (fixed for all exps)\n",
    "    files = glob.glob(\"/Users/qualia/Code/glia_playing_atari/data/digits_exp153_*\")\n",
    "    exp153 = get_data(files, \"correct\")\n",
    "\n",
    "    files = glob.glob(\"/Users/qualia/Code/glia_playing_atari/data/digits_exp154_*\")\n",
    "    exp154 = get_data(files, \"correct\")\n",
    "\n",
    "    # Gather\n",
    "    models = [exp153, exp154]\n",
    "    model_names = [\"Astrocytes\", \"Neurons\"]\n",
    "\n",
    "    # Sanity\n",
    "    assert len(model_names) == len(models)\n",
    "\n",
    "    return model_names, models"
   ]
  },
  {
   "cell_type": "code",
   "execution_count": 77,
   "metadata": {},
   "outputs": [
    {
     "data": {
      "application/javascript": [
       "\n",
       "            setTimeout(function() {\n",
       "                var nbb_cell_id = 77;\n",
       "                var nbb_unformatted_code = \"def load_digit_rand_exps():\\n    # Sparse projection\\n    files = glob.glob(\\\"/Users/qualia/Code/glia_playing_atari/data/digits_exp155_*\\\")\\n    exp155 = get_data(files, \\\"correct\\\")\\n\\n    files = glob.glob(\\\"/Users/qualia/Code/glia_playing_atari/data/digits_exp156_*\\\")\\n    exp156 = get_data(files, \\\"correct\\\")\\n\\n    # Gather\\n    models = [exp155, exp156]\\n    model_names = [\\\"Astrocytes\\\", \\\"Neurons\\\"]\\n\\n    # Sanity\\n    assert len(model_names) == len(models)\\n\\n    return model_names, models\";\n",
       "                var nbb_formatted_code = \"def load_digit_rand_exps():\\n    # Sparse projection\\n    files = glob.glob(\\\"/Users/qualia/Code/glia_playing_atari/data/digits_exp155_*\\\")\\n    exp155 = get_data(files, \\\"correct\\\")\\n\\n    files = glob.glob(\\\"/Users/qualia/Code/glia_playing_atari/data/digits_exp156_*\\\")\\n    exp156 = get_data(files, \\\"correct\\\")\\n\\n    # Gather\\n    models = [exp155, exp156]\\n    model_names = [\\\"Astrocytes\\\", \\\"Neurons\\\"]\\n\\n    # Sanity\\n    assert len(model_names) == len(models)\\n\\n    return model_names, models\";\n",
       "                var nbb_cells = Jupyter.notebook.get_cells();\n",
       "                for (var i = 0; i < nbb_cells.length; ++i) {\n",
       "                    if (nbb_cells[i].input_prompt_number == nbb_cell_id) {\n",
       "                        if (nbb_cells[i].get_text() == nbb_unformatted_code) {\n",
       "                             nbb_cells[i].set_text(nbb_formatted_code);\n",
       "                        }\n",
       "                        break;\n",
       "                    }\n",
       "                }\n",
       "            }, 500);\n",
       "            "
      ],
      "text/plain": [
       "<IPython.core.display.Javascript object>"
      ]
     },
     "metadata": {},
     "output_type": "display_data"
    }
   ],
   "source": [
    "def load_digit_rand_exps():\n",
    "    # Sparse projection\n",
    "    files = glob.glob(\"/Users/qualia/Code/glia_playing_atari/data/digits_exp155_*\")\n",
    "    exp155 = get_data(files, \"correct\")\n",
    "\n",
    "    files = glob.glob(\"/Users/qualia/Code/glia_playing_atari/data/digits_exp156_*\")\n",
    "    exp156 = get_data(files, \"correct\")\n",
    "\n",
    "    # Gather\n",
    "    models = [exp155, exp156]\n",
    "    model_names = [\"Astrocytes\", \"Neurons\"]\n",
    "\n",
    "    # Sanity\n",
    "    assert len(model_names) == len(models)\n",
    "\n",
    "    return model_names, models"
   ]
  },
  {
   "cell_type": "markdown",
   "metadata": {},
   "source": [
    "# Learn VAE "
   ]
  },
  {
   "cell_type": "markdown",
   "metadata": {},
   "source": [
    "Load data"
   ]
  },
  {
   "cell_type": "code",
   "execution_count": 78,
   "metadata": {},
   "outputs": [
    {
     "data": {
      "text/plain": [
       "('Astrocytes',\n",
       " defaultdict(list,\n",
       "             {'correct': [0.8348,\n",
       "               0.1135,\n",
       "               0.1135,\n",
       "               0.1135,\n",
       "               0.8002,\n",
       "               0.1135,\n",
       "               0.8765,\n",
       "               0.7719,\n",
       "               0.8828,\n",
       "               0.1135,\n",
       "               0.8593,\n",
       "               0.8646,\n",
       "               0.8862,\n",
       "               0.8506,\n",
       "               0.1135,\n",
       "               0.867,\n",
       "               0.8815,\n",
       "               0.8798,\n",
       "               0.1135,\n",
       "               0.8375]}))"
      ]
     },
     "execution_count": 78,
     "metadata": {},
     "output_type": "execute_result"
    },
    {
     "data": {
      "application/javascript": [
       "\n",
       "            setTimeout(function() {\n",
       "                var nbb_cell_id = 78;\n",
       "                var nbb_unformatted_code = \"model_names, models = load_digit_online_exps()\\n# Show example\\ni = 0\\nmodel_names[i], models[i]\";\n",
       "                var nbb_formatted_code = \"model_names, models = load_digit_online_exps()\\n# Show example\\ni = 0\\nmodel_names[i], models[i]\";\n",
       "                var nbb_cells = Jupyter.notebook.get_cells();\n",
       "                for (var i = 0; i < nbb_cells.length; ++i) {\n",
       "                    if (nbb_cells[i].input_prompt_number == nbb_cell_id) {\n",
       "                        if (nbb_cells[i].get_text() == nbb_unformatted_code) {\n",
       "                             nbb_cells[i].set_text(nbb_formatted_code);\n",
       "                        }\n",
       "                        break;\n",
       "                    }\n",
       "                }\n",
       "            }, 500);\n",
       "            "
      ],
      "text/plain": [
       "<IPython.core.display.Javascript object>"
      ]
     },
     "metadata": {},
     "output_type": "display_data"
    }
   ],
   "source": [
    "model_names, models = load_digit_online_exps()\n",
    "# Show example\n",
    "i = 0\n",
    "model_names[i], models[i]"
   ]
  },
  {
   "cell_type": "markdown",
   "metadata": {},
   "source": [
    "Est stats and plot"
   ]
  },
  {
   "cell_type": "code",
   "execution_count": 79,
   "metadata": {},
   "outputs": [
    {
     "data": {
      "image/png": "[encoded data removed]",
      "text/plain": [
       "<Figure size 216x288 with 1 Axes>"
      ]
     },
     "metadata": {
      "image/png": {
       "height": 311,
       "width": 257
      }
     },
     "output_type": "display_data"
    },
    {
     "data": {
      "application/javascript": [
       "\n",
       "            setTimeout(function() {\n",
       "                var nbb_cell_id = 79;\n",
       "                var nbb_unformatted_code = \"# Est\\nmeans = [np.mean(exp[\\\"correct\\\"]) for exp in models]\\nstds = [np.std(exp[\\\"correct\\\"]) for exp in models]\\nmedians = [np.median(exp[\\\"correct\\\"]) for exp in models]\\nassert len(means) == len(models)\\n\\n# Plot grid\\nfig = plt.figure(figsize=(3, 4))\\ngrid = plt.GridSpec(1, 1, wspace=0.3, hspace=0.8)\\nplt.subplot(grid[0, 0])\\n\\n# Mean\\nplt.bar(model_names, medians, color=\\\"grey\\\", alpha=0.2, width=0.5)\\n\\n# Points\\nfor name, model in zip(model_names, models):\\n    n = len(model[\\\"correct\\\"])\\n    plt.scatter(x=np.repeat(name, n), y=model[\\\"correct\\\"], color=\\\"black\\\", alpha=0.1)\\n\\n# Axes\\nplt.ylim(0, 1.1)\\nplt.ylabel(\\\"Accuracy\\\")\\nplt.title(\\\"Latent\\\\nprojection\\\", loc=\\\"right\\\")\\n_ = sns.despine()\";\n",
       "                var nbb_formatted_code = \"# Est\\nmeans = [np.mean(exp[\\\"correct\\\"]) for exp in models]\\nstds = [np.std(exp[\\\"correct\\\"]) for exp in models]\\nmedians = [np.median(exp[\\\"correct\\\"]) for exp in models]\\nassert len(means) == len(models)\\n\\n# Plot grid\\nfig = plt.figure(figsize=(3, 4))\\ngrid = plt.GridSpec(1, 1, wspace=0.3, hspace=0.8)\\nplt.subplot(grid[0, 0])\\n\\n# Mean\\nplt.bar(model_names, medians, color=\\\"grey\\\", alpha=0.2, width=0.5)\\n\\n# Points\\nfor name, model in zip(model_names, models):\\n    n = len(model[\\\"correct\\\"])\\n    plt.scatter(x=np.repeat(name, n), y=model[\\\"correct\\\"], color=\\\"black\\\", alpha=0.1)\\n\\n# Axes\\nplt.ylim(0, 1.1)\\nplt.ylabel(\\\"Accuracy\\\")\\nplt.title(\\\"Latent\\\\nprojection\\\", loc=\\\"right\\\")\\n_ = sns.despine()\";\n",
       "                var nbb_cells = Jupyter.notebook.get_cells();\n",
       "                for (var i = 0; i < nbb_cells.length; ++i) {\n",
       "                    if (nbb_cells[i].input_prompt_number == nbb_cell_id) {\n",
       "                        if (nbb_cells[i].get_text() == nbb_unformatted_code) {\n",
       "                             nbb_cells[i].set_text(nbb_formatted_code);\n",
       "                        }\n",
       "                        break;\n",
       "                    }\n",
       "                }\n",
       "            }, 500);\n",
       "            "
      ],
      "text/plain": [
       "<IPython.core.display.Javascript object>"
      ]
     },
     "metadata": {},
     "output_type": "display_data"
    }
   ],
   "source": [
    "# Est\n",
    "means = [np.mean(exp[\"correct\"]) for exp in models]\n",
    "stds = [np.std(exp[\"correct\"]) for exp in models]\n",
    "medians = [np.median(exp[\"correct\"]) for exp in models]\n",
    "assert len(means) == len(models)\n",
    "\n",
    "# Plot grid\n",
    "fig = plt.figure(figsize=(3, 4))\n",
    "grid = plt.GridSpec(1, 1, wspace=0.3, hspace=0.8)\n",
    "plt.subplot(grid[0, 0])\n",
    "\n",
    "# Mean\n",
    "plt.bar(model_names, medians, color=\"grey\", alpha=0.2, width=0.5)\n",
    "\n",
    "# Points\n",
    "for name, model in zip(model_names, models):\n",
    "    n = len(model[\"correct\"])\n",
    "    plt.scatter(x=np.repeat(name, n), y=model[\"correct\"], color=\"black\", alpha=0.1)\n",
    "\n",
    "# Axes\n",
    "plt.ylim(0, 1.1)\n",
    "plt.ylabel(\"Accuracy\")\n",
    "plt.title(\"Latent\\nprojection\", loc=\"right\")\n",
    "_ = sns.despine()"
   ]
  },
  {
   "cell_type": "code",
   "execution_count": 80,
   "metadata": {},
   "outputs": [
    {
     "name": "stdout",
     "output_type": "stream",
     "text": [
      "[0.83615, 0.9116]\n",
      "Astrocyte percent diff: 0.09023500568079892\n"
     ]
    },
    {
     "data": {
      "application/javascript": [
       "\n",
       "            setTimeout(function() {\n",
       "                var nbb_cell_id = 80;\n",
       "                var nbb_unformatted_code = \"print(medians)\\nprint(f\\\"Astrocyte percent diff: {(medians[1] - medians[0])/ medians[0]}\\\")\";\n",
       "                var nbb_formatted_code = \"print(medians)\\nprint(f\\\"Astrocyte percent diff: {(medians[1] - medians[0])/ medians[0]}\\\")\";\n",
       "                var nbb_cells = Jupyter.notebook.get_cells();\n",
       "                for (var i = 0; i < nbb_cells.length; ++i) {\n",
       "                    if (nbb_cells[i].input_prompt_number == nbb_cell_id) {\n",
       "                        if (nbb_cells[i].get_text() == nbb_unformatted_code) {\n",
       "                             nbb_cells[i].set_text(nbb_formatted_code);\n",
       "                        }\n",
       "                        break;\n",
       "                    }\n",
       "                }\n",
       "            }, 500);\n",
       "            "
      ],
      "text/plain": [
       "<IPython.core.display.Javascript object>"
      ]
     },
     "metadata": {},
     "output_type": "display_data"
    }
   ],
   "source": [
    "print(medians)\n",
    "print(f\"Astrocyte percent diff: {(medians[1] - medians[0])/ medians[0]}\")"
   ]
  },
  {
   "cell_type": "markdown",
   "metadata": {},
   "source": [
    "# Fixed VAE"
   ]
  },
  {
   "cell_type": "code",
   "execution_count": 81,
   "metadata": {},
   "outputs": [
    {
     "data": {
      "text/plain": [
       "('Astrocytes',\n",
       " defaultdict(list,\n",
       "             {'correct': [0.8357,\n",
       "               0.1135,\n",
       "               0.8122,\n",
       "               0.8222,\n",
       "               0.1135,\n",
       "               0.1135,\n",
       "               0.8242,\n",
       "               0.8198,\n",
       "               0.7776,\n",
       "               0.8245,\n",
       "               0.828,\n",
       "               0.8182,\n",
       "               0.8075,\n",
       "               0.8196,\n",
       "               0.8279,\n",
       "               0.8216,\n",
       "               0.8285,\n",
       "               0.8197,\n",
       "               0.8302,\n",
       "               0.8183]}))"
      ]
     },
     "execution_count": 81,
     "metadata": {},
     "output_type": "execute_result"
    },
    {
     "data": {
      "application/javascript": [
       "\n",
       "            setTimeout(function() {\n",
       "                var nbb_cell_id = 81;\n",
       "                var nbb_unformatted_code = \"model_names, models = load_digit_pretrain_exps()\\n# Show example\\ni = 0\\nmodel_names[i], models[i]\";\n",
       "                var nbb_formatted_code = \"model_names, models = load_digit_pretrain_exps()\\n# Show example\\ni = 0\\nmodel_names[i], models[i]\";\n",
       "                var nbb_cells = Jupyter.notebook.get_cells();\n",
       "                for (var i = 0; i < nbb_cells.length; ++i) {\n",
       "                    if (nbb_cells[i].input_prompt_number == nbb_cell_id) {\n",
       "                        if (nbb_cells[i].get_text() == nbb_unformatted_code) {\n",
       "                             nbb_cells[i].set_text(nbb_formatted_code);\n",
       "                        }\n",
       "                        break;\n",
       "                    }\n",
       "                }\n",
       "            }, 500);\n",
       "            "
      ],
      "text/plain": [
       "<IPython.core.display.Javascript object>"
      ]
     },
     "metadata": {},
     "output_type": "display_data"
    }
   ],
   "source": [
    "model_names, models = load_digit_pretrain_exps()\n",
    "# Show example\n",
    "i = 0\n",
    "model_names[i], models[i]"
   ]
  },
  {
   "cell_type": "markdown",
   "metadata": {},
   "source": [
    "Est stats and plot"
   ]
  },
  {
   "cell_type": "code",
   "execution_count": 82,
   "metadata": {},
   "outputs": [
    {
     "data": {
      "image/png": "[encoded data removed]",
      "text/plain": [
       "<Figure size 216x288 with 1 Axes>"
      ]
     },
     "metadata": {
      "image/png": {
       "height": 311,
       "width": 257
      }
     },
     "output_type": "display_data"
    },
    {
     "data": {
      "application/javascript": [
       "\n",
       "            setTimeout(function() {\n",
       "                var nbb_cell_id = 82;\n",
       "                var nbb_unformatted_code = \"# Est\\nmeans = [np.mean(exp[\\\"correct\\\"]) for exp in models]\\nstds = [np.std(exp[\\\"correct\\\"]) for exp in models]\\nmedians = [np.median(exp[\\\"correct\\\"]) for exp in models]\\nassert len(means) == len(models)\\n\\n# Plot grid\\nfig = plt.figure(figsize=(3, 4))\\ngrid = plt.GridSpec(1, 1, wspace=0.3, hspace=0.8)\\nplt.subplot(grid[0, 0])\\n\\n# Mean\\nplt.bar(model_names, medians, color=\\\"grey\\\", alpha=0.2, width=0.5)\\n\\n# Points\\nfor name, model in zip(model_names, models):\\n    n = len(model[\\\"correct\\\"])\\n    plt.scatter(x=np.repeat(name, n), y=model[\\\"correct\\\"], color=\\\"black\\\", alpha=0.1)\\n\\n# Axes\\nplt.ylim(0, 1.1)\\nplt.ylabel(\\\"Accuracy\\\")\\nplt.title(\\\"Latent\\\\nprojection\\\", loc=\\\"right\\\")\\n_ = sns.despine()\";\n",
       "                var nbb_formatted_code = \"# Est\\nmeans = [np.mean(exp[\\\"correct\\\"]) for exp in models]\\nstds = [np.std(exp[\\\"correct\\\"]) for exp in models]\\nmedians = [np.median(exp[\\\"correct\\\"]) for exp in models]\\nassert len(means) == len(models)\\n\\n# Plot grid\\nfig = plt.figure(figsize=(3, 4))\\ngrid = plt.GridSpec(1, 1, wspace=0.3, hspace=0.8)\\nplt.subplot(grid[0, 0])\\n\\n# Mean\\nplt.bar(model_names, medians, color=\\\"grey\\\", alpha=0.2, width=0.5)\\n\\n# Points\\nfor name, model in zip(model_names, models):\\n    n = len(model[\\\"correct\\\"])\\n    plt.scatter(x=np.repeat(name, n), y=model[\\\"correct\\\"], color=\\\"black\\\", alpha=0.1)\\n\\n# Axes\\nplt.ylim(0, 1.1)\\nplt.ylabel(\\\"Accuracy\\\")\\nplt.title(\\\"Latent\\\\nprojection\\\", loc=\\\"right\\\")\\n_ = sns.despine()\";\n",
       "                var nbb_cells = Jupyter.notebook.get_cells();\n",
       "                for (var i = 0; i < nbb_cells.length; ++i) {\n",
       "                    if (nbb_cells[i].input_prompt_number == nbb_cell_id) {\n",
       "                        if (nbb_cells[i].get_text() == nbb_unformatted_code) {\n",
       "                             nbb_cells[i].set_text(nbb_formatted_code);\n",
       "                        }\n",
       "                        break;\n",
       "                    }\n",
       "                }\n",
       "            }, 500);\n",
       "            "
      ],
      "text/plain": [
       "<IPython.core.display.Javascript object>"
      ]
     },
     "metadata": {},
     "output_type": "display_data"
    }
   ],
   "source": [
    "# Est\n",
    "means = [np.mean(exp[\"correct\"]) for exp in models]\n",
    "stds = [np.std(exp[\"correct\"]) for exp in models]\n",
    "medians = [np.median(exp[\"correct\"]) for exp in models]\n",
    "assert len(means) == len(models)\n",
    "\n",
    "# Plot grid\n",
    "fig = plt.figure(figsize=(3, 4))\n",
    "grid = plt.GridSpec(1, 1, wspace=0.3, hspace=0.8)\n",
    "plt.subplot(grid[0, 0])\n",
    "\n",
    "# Mean\n",
    "plt.bar(model_names, medians, color=\"grey\", alpha=0.2, width=0.5)\n",
    "\n",
    "# Points\n",
    "for name, model in zip(model_names, models):\n",
    "    n = len(model[\"correct\"])\n",
    "    plt.scatter(x=np.repeat(name, n), y=model[\"correct\"], color=\"black\", alpha=0.1)\n",
    "\n",
    "# Axes\n",
    "plt.ylim(0, 1.1)\n",
    "plt.ylabel(\"Accuracy\")\n",
    "plt.title(\"Latent\\nprojection\", loc=\"right\")\n",
    "_ = sns.despine()"
   ]
  },
  {
   "cell_type": "code",
   "execution_count": 83,
   "metadata": {},
   "outputs": [
    {
     "name": "stdout",
     "output_type": "stream",
     "text": [
      "[0.81975, 0.94465]\n",
      "Astrocyte percent diff: 0.15236352546508083\n"
     ]
    },
    {
     "data": {
      "application/javascript": [
       "\n",
       "            setTimeout(function() {\n",
       "                var nbb_cell_id = 83;\n",
       "                var nbb_unformatted_code = \"print(medians)\\nprint(f\\\"Astrocyte percent diff: {(medians[1] - medians[0])/ medians[0]}\\\")\";\n",
       "                var nbb_formatted_code = \"print(medians)\\nprint(f\\\"Astrocyte percent diff: {(medians[1] - medians[0])/ medians[0]}\\\")\";\n",
       "                var nbb_cells = Jupyter.notebook.get_cells();\n",
       "                for (var i = 0; i < nbb_cells.length; ++i) {\n",
       "                    if (nbb_cells[i].input_prompt_number == nbb_cell_id) {\n",
       "                        if (nbb_cells[i].get_text() == nbb_unformatted_code) {\n",
       "                             nbb_cells[i].set_text(nbb_formatted_code);\n",
       "                        }\n",
       "                        break;\n",
       "                    }\n",
       "                }\n",
       "            }, 500);\n",
       "            "
      ],
      "text/plain": [
       "<IPython.core.display.Javascript object>"
      ]
     },
     "metadata": {},
     "output_type": "display_data"
    }
   ],
   "source": [
    "print(medians)\n",
    "print(f\"Astrocyte percent diff: {(medians[1] - medians[0])/ medians[0]}\")"
   ]
  },
  {
   "cell_type": "markdown",
   "metadata": {},
   "source": [
    "# Sparse projection"
   ]
  },
  {
   "cell_type": "code",
   "execution_count": 84,
   "metadata": {},
   "outputs": [
    {
     "data": {
      "text/plain": [
       "('Astrocytes',\n",
       " defaultdict(list,\n",
       "             {'correct': [0.65,\n",
       "               0.6698,\n",
       "               0.6726,\n",
       "               0.687,\n",
       "               0.6786,\n",
       "               0.6645,\n",
       "               0.7206,\n",
       "               0.6784,\n",
       "               0.6683,\n",
       "               0.6844,\n",
       "               0.6876,\n",
       "               0.5402,\n",
       "               0.6789,\n",
       "               0.6847,\n",
       "               0.6808,\n",
       "               0.6459,\n",
       "               0.679,\n",
       "               0.6791,\n",
       "               0.6695,\n",
       "               0.6871]}))"
      ]
     },
     "execution_count": 84,
     "metadata": {},
     "output_type": "execute_result"
    },
    {
     "data": {
      "application/javascript": [
       "\n",
       "            setTimeout(function() {\n",
       "                var nbb_cell_id = 84;\n",
       "                var nbb_unformatted_code = \"model_names, models = load_digit_rand_exps()\\n# Show example\\ni = 0\\nmodel_names[i], models[i]\";\n",
       "                var nbb_formatted_code = \"model_names, models = load_digit_rand_exps()\\n# Show example\\ni = 0\\nmodel_names[i], models[i]\";\n",
       "                var nbb_cells = Jupyter.notebook.get_cells();\n",
       "                for (var i = 0; i < nbb_cells.length; ++i) {\n",
       "                    if (nbb_cells[i].input_prompt_number == nbb_cell_id) {\n",
       "                        if (nbb_cells[i].get_text() == nbb_unformatted_code) {\n",
       "                             nbb_cells[i].set_text(nbb_formatted_code);\n",
       "                        }\n",
       "                        break;\n",
       "                    }\n",
       "                }\n",
       "            }, 500);\n",
       "            "
      ],
      "text/plain": [
       "<IPython.core.display.Javascript object>"
      ]
     },
     "metadata": {},
     "output_type": "display_data"
    }
   ],
   "source": [
    "model_names, models = load_digit_rand_exps()\n",
    "# Show example\n",
    "i = 0\n",
    "model_names[i], models[i]"
   ]
  },
  {
   "cell_type": "code",
   "execution_count": 85,
   "metadata": {},
   "outputs": [
    {
     "data": {
      "image/png": "[encoded data removed]",
      "text/plain": [
       "<Figure size 216x288 with 1 Axes>"
      ]
     },
     "metadata": {
      "image/png": {
       "height": 311,
       "width": 257
      }
     },
     "output_type": "display_data"
    },
    {
     "data": {
      "application/javascript": [
       "\n",
       "            setTimeout(function() {\n",
       "                var nbb_cell_id = 85;\n",
       "                var nbb_unformatted_code = \"# Est\\nmeans = [np.mean(exp[\\\"correct\\\"]) for exp in models]\\nstds = [np.std(exp[\\\"correct\\\"]) for exp in models]\\nmedians = [np.median(exp[\\\"correct\\\"]) for exp in models]\\nassert len(means) == len(models)\\n\\n# Plot grid\\nfig = plt.figure(figsize=(3, 4))\\ngrid = plt.GridSpec(1, 1, wspace=0.3, hspace=0.8)\\nplt.subplot(grid[0, 0])\\n\\n# Mean\\nplt.bar(model_names, medians, color=\\\"grey\\\", alpha=0.2, width=0.5)\\n\\n# Points\\nfor name, model in zip(model_names, models):\\n    n = len(model[\\\"correct\\\"])\\n    plt.scatter(x=np.repeat(name, n), y=model[\\\"correct\\\"], color=\\\"black\\\", alpha=0.1)\\n\\n# Axes\\nplt.ylim(0, 1.1)\\nplt.ylabel(\\\"Accuracy\\\")\\nplt.title(\\\"Random\\\\nprojection\\\", loc=\\\"right\\\")\\n_ = sns.despine()\";\n",
       "                var nbb_formatted_code = \"# Est\\nmeans = [np.mean(exp[\\\"correct\\\"]) for exp in models]\\nstds = [np.std(exp[\\\"correct\\\"]) for exp in models]\\nmedians = [np.median(exp[\\\"correct\\\"]) for exp in models]\\nassert len(means) == len(models)\\n\\n# Plot grid\\nfig = plt.figure(figsize=(3, 4))\\ngrid = plt.GridSpec(1, 1, wspace=0.3, hspace=0.8)\\nplt.subplot(grid[0, 0])\\n\\n# Mean\\nplt.bar(model_names, medians, color=\\\"grey\\\", alpha=0.2, width=0.5)\\n\\n# Points\\nfor name, model in zip(model_names, models):\\n    n = len(model[\\\"correct\\\"])\\n    plt.scatter(x=np.repeat(name, n), y=model[\\\"correct\\\"], color=\\\"black\\\", alpha=0.1)\\n\\n# Axes\\nplt.ylim(0, 1.1)\\nplt.ylabel(\\\"Accuracy\\\")\\nplt.title(\\\"Random\\\\nprojection\\\", loc=\\\"right\\\")\\n_ = sns.despine()\";\n",
       "                var nbb_cells = Jupyter.notebook.get_cells();\n",
       "                for (var i = 0; i < nbb_cells.length; ++i) {\n",
       "                    if (nbb_cells[i].input_prompt_number == nbb_cell_id) {\n",
       "                        if (nbb_cells[i].get_text() == nbb_unformatted_code) {\n",
       "                             nbb_cells[i].set_text(nbb_formatted_code);\n",
       "                        }\n",
       "                        break;\n",
       "                    }\n",
       "                }\n",
       "            }, 500);\n",
       "            "
      ],
      "text/plain": [
       "<IPython.core.display.Javascript object>"
      ]
     },
     "metadata": {},
     "output_type": "display_data"
    }
   ],
   "source": [
    "# Est\n",
    "means = [np.mean(exp[\"correct\"]) for exp in models]\n",
    "stds = [np.std(exp[\"correct\"]) for exp in models]\n",
    "medians = [np.median(exp[\"correct\"]) for exp in models]\n",
    "assert len(means) == len(models)\n",
    "\n",
    "# Plot grid\n",
    "fig = plt.figure(figsize=(3, 4))\n",
    "grid = plt.GridSpec(1, 1, wspace=0.3, hspace=0.8)\n",
    "plt.subplot(grid[0, 0])\n",
    "\n",
    "# Mean\n",
    "plt.bar(model_names, medians, color=\"grey\", alpha=0.2, width=0.5)\n",
    "\n",
    "# Points\n",
    "for name, model in zip(model_names, models):\n",
    "    n = len(model[\"correct\"])\n",
    "    plt.scatter(x=np.repeat(name, n), y=model[\"correct\"], color=\"black\", alpha=0.1)\n",
    "\n",
    "# Axes\n",
    "plt.ylim(0, 1.1)\n",
    "plt.ylabel(\"Accuracy\")\n",
    "plt.title(\"Random\\nprojection\", loc=\"right\")\n",
    "_ = sns.despine()"
   ]
  },
  {
   "cell_type": "code",
   "execution_count": 86,
   "metadata": {},
   "outputs": [
    {
     "name": "stdout",
     "output_type": "stream",
     "text": [
      "[0.67875, 0.7697]\n",
      "Astrocyte percent diff: 0.13399631675874782\n"
     ]
    },
    {
     "data": {
      "application/javascript": [
       "\n",
       "            setTimeout(function() {\n",
       "                var nbb_cell_id = 86;\n",
       "                var nbb_unformatted_code = \"print(medians)\\nprint(f\\\"Astrocyte percent diff: {(medians[1] - medians[0])/ medians[0]}\\\")\";\n",
       "                var nbb_formatted_code = \"print(medians)\\nprint(f\\\"Astrocyte percent diff: {(medians[1] - medians[0])/ medians[0]}\\\")\";\n",
       "                var nbb_cells = Jupyter.notebook.get_cells();\n",
       "                for (var i = 0; i < nbb_cells.length; ++i) {\n",
       "                    if (nbb_cells[i].input_prompt_number == nbb_cell_id) {\n",
       "                        if (nbb_cells[i].get_text() == nbb_unformatted_code) {\n",
       "                             nbb_cells[i].set_text(nbb_formatted_code);\n",
       "                        }\n",
       "                        break;\n",
       "                    }\n",
       "                }\n",
       "            }, 500);\n",
       "            "
      ],
      "text/plain": [
       "<IPython.core.display.Javascript object>"
      ]
     },
     "metadata": {},
     "output_type": "display_data"
    }
   ],
   "source": [
    "print(medians)\n",
    "print(f\"Astrocyte percent diff: {(medians[1] - medians[0])/ medians[0]}\")"
   ]
  },
  {
   "cell_type": "code",
   "execution_count": null,
   "metadata": {},
   "outputs": [],
   "source": []
  }
 ],
 "metadata": {
  "kernelspec": {
   "display_name": "Python 3",
   "language": "python",
   "name": "python3"
  },
  "language_info": {
   "codemirror_mode": {
    "name": "ipython",
    "version": 3
   },
   "file_extension": ".py",
   "mimetype": "text/x-python",
   "name": "python",
   "nbconvert_exporter": "python",
   "pygments_lexer": "ipython3",
   "version": "3.6.7"
  }
 },
 "nbformat": 4,
 "nbformat_minor": 2
}
